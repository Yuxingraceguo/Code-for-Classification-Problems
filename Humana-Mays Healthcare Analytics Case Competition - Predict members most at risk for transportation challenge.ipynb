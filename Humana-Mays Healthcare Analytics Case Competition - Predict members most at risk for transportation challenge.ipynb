{
 "cells": [
  {
   "cell_type": "code",
   "execution_count": 38,
   "metadata": {
    "executionInfo": {
     "elapsed": 591,
     "status": "ok",
     "timestamp": 1602456342588,
     "user": {
      "displayName": "Zhenghao Zhou",
      "photoUrl": "",
      "userId": "02219622741157575651"
     },
     "user_tz": 420
    },
    "id": "NV8bPyFv1VMf"
   },
   "outputs": [],
   "source": [
    "import pandas as pd\n",
    "import numpy as np\n",
    "import matplotlib.pyplot as plt\n",
    "import seaborn as sns\n",
    "%matplotlib inline\n",
    "from sklearn import preprocessing\n",
    "from sklearn.model_selection import train_test_split\n",
    "from sklearn.ensemble import RandomForestClassifier\n",
    "from sklearn import metrics\n",
    "from sklearn.metrics import roc_curve, auc\n",
    "from sklearn.metrics import confusion_matrix\n",
    "from sklearn.linear_model import LogisticRegression\n",
    "from xgboost import XGBClassifier\n",
    "from sklearn.metrics import roc_auc_score\n",
    "from sklearn.metrics import accuracy_score"
   ]
  },
  {
   "cell_type": "code",
   "execution_count": 2,
   "metadata": {
    "colab": {
     "base_uri": "https://localhost:8080/",
     "height": 380
    },
    "executionInfo": {
     "elapsed": 437,
     "status": "error",
     "timestamp": 1602456459168,
     "user": {
      "displayName": "Zhenghao Zhou",
      "photoUrl": "",
      "userId": "02219622741157575651"
     },
     "user_tz": 420
    },
    "id": "2LPAug5u1VMk",
    "outputId": "8a76f734-aa6a-4da5-a3da-bddea9b39211",
    "scrolled": true
   },
   "outputs": [
    {
     "name": "stderr",
     "output_type": "stream",
     "text": [
      "/Users/guoyuxin/opt/anaconda3/lib/python3.8/site-packages/IPython/core/interactiveshell.py:3146: DtypeWarning: Columns (80,193) have mixed types.Specify dtype option on import or set low_memory=False.\n",
      "  has_raised = await self.run_ast_nodes(code_ast.body, cell_name,\n",
      "/Users/guoyuxin/opt/anaconda3/lib/python3.8/site-packages/IPython/core/interactiveshell.py:3146: DtypeWarning: Columns (79) have mixed types.Specify dtype option on import or set low_memory=False.\n",
      "  has_raised = await self.run_ast_nodes(code_ast.body, cell_name,\n"
     ]
    }
   ],
   "source": [
    "Training=pd.read_csv('2020_Competition_Training.csv')\n",
    "Holdout=pd.read_csv('2020_Competition_Holdout.csv')\n",
    "## Drop id column\n",
    "Training=Training.drop('person_id_syn', axis = 1)\n",
    "Holdout=Holdout.drop('person_id_syn', axis = 1)"
   ]
  },
  {
   "cell_type": "code",
   "execution_count": 3,
   "metadata": {},
   "outputs": [],
   "source": [
    "# Calculate the percentage of missing value in each column\n",
    "column_na=Training.columns[Training.isna().any()].tolist()\n",
    "per_na_l = []\n",
    "for i in column_na:\n",
    "    col_name = str(i)\n",
    "    per_na = Training[i].isnull().sum() * 100 / len(Training) # get the percentage of NAs in each column\n",
    "    per_na_l.append(per_na)\n",
    "na_assess = pd.DataFrame(list(zip(column_na, per_na_l)), \\\n",
    "                         columns =['Variable Names', '% of NAs']).sort_values('% of NAs', ascending = False)\n",
    "\n"
   ]
  },
  {
   "cell_type": "code",
   "execution_count": 4,
   "metadata": {},
   "outputs": [],
   "source": [
    "## Drop columns with % of NAs >50%\n",
    "delete_cols=na_assess['Variable Names'][na_assess['% of NAs']>0.5].values"
   ]
  },
  {
   "cell_type": "code",
   "execution_count": 5,
   "metadata": {},
   "outputs": [],
   "source": [
    "Training=Training.drop(delete_cols, axis = 1)\n",
    "Holdout=Holdout.drop(delete_cols, axis = 1)"
   ]
  },
  {
   "cell_type": "markdown",
   "metadata": {
    "id": "b7ox7BxP1VN8"
   },
   "source": [
    "## Deal with object-type columns"
   ]
  },
  {
   "cell_type": "code",
   "execution_count": 6,
   "metadata": {},
   "outputs": [],
   "source": [
    "col_object=Training.loc[:, Training.dtypes == object].columns\n",
    "le = preprocessing.LabelEncoder()\n",
    "for i in col_object:\n",
    "    Training[i].fillna(\"Not Specified\",inplace = True)\n",
    "    Training[i] = le.fit_transform(Training[i].astype(str))\n",
    "    \n",
    "\n",
    "col_object=Holdout.loc[:, Holdout.dtypes == object].columns\n",
    "le = preprocessing.LabelEncoder()\n",
    "for i in col_object:\n",
    "    Holdout[i].fillna(\"Not Specified\",inplace = True)\n",
    "    Holdout[i] = le.fit_transform(Holdout[i].astype(str))"
   ]
  },
  {
   "cell_type": "markdown",
   "metadata": {},
   "source": [
    "## Deal with non-object columns"
   ]
  },
  {
   "cell_type": "code",
   "execution_count": 7,
   "metadata": {},
   "outputs": [],
   "source": [
    "from sklearn.base import TransformerMixin\n",
    "class DataFrameImputer(TransformerMixin):\n",
    "\n",
    "    def __init__(self):\n",
    "        \"\"\"Impute missing values.\n",
    "\n",
    "        Columns of dtype object are imputed with the most frequent value \n",
    "        in column.\n",
    "\n",
    "        Columns of other types are imputed with mean of column.\n",
    "\n",
    "        \"\"\"\n",
    "    def fit(self, X, y=None):\n",
    "\n",
    "        self.fill = pd.Series([X[c].value_counts().index[0]\n",
    "            if X[c].dtype == np.dtype('O') else X[c].mean() for c in X],\n",
    "            index=X.columns)\n",
    "\n",
    "        return self\n",
    "\n",
    "    def transform(self, X, y=None):\n",
    "        return X.fillna(self.fill)\n",
    "\n",
    "X = pd.DataFrame(Holdout)\n",
    "Holdout= DataFrameImputer().fit_transform(X)\n",
    "\n",
    "X = pd.DataFrame(Training)\n",
    "Training= DataFrameImputer().fit_transform(X)"
   ]
  },
  {
   "cell_type": "code",
   "execution_count": 10,
   "metadata": {},
   "outputs": [
    {
     "data": {
      "text/plain": [
       "[]"
      ]
     },
     "execution_count": 10,
     "metadata": {},
     "output_type": "execute_result"
    }
   ],
   "source": [
    "Training.columns[Training.isna().any()].tolist()"
   ]
  },
  {
   "cell_type": "code",
   "execution_count": 11,
   "metadata": {},
   "outputs": [
    {
     "data": {
      "text/plain": [
       "[]"
      ]
     },
     "execution_count": 11,
     "metadata": {},
     "output_type": "execute_result"
    }
   ],
   "source": [
    "Holdout.columns[Holdout.isna().any()].tolist()"
   ]
  },
  {
   "cell_type": "markdown",
   "metadata": {
    "id": "RVeavZIK1VP4"
   },
   "source": [
    "## Deal with imbalanced data"
   ]
  },
  {
   "cell_type": "code",
   "execution_count": 12,
   "metadata": {
    "id": "d-eQh8y-1VP5"
   },
   "outputs": [],
   "source": [
    "# Separate majority and minority classes\n",
    "df_majority = Training[Training.transportation_issues==0]\n",
    "df_minority = Training[Training.transportation_issues==1]"
   ]
  },
  {
   "cell_type": "code",
   "execution_count": 13,
   "metadata": {
    "id": "pv57o7Le1VP9",
    "outputId": "512a64ea-a75a-47a5-e78f-434435ddf843",
    "scrolled": true
   },
   "outputs": [
    {
     "name": "stdout",
     "output_type": "stream",
     "text": [
      "<class 'pandas.core.frame.DataFrame'>\n",
      "Int64Index: 59375 entries, 0 to 69570\n",
      "Columns: 793 entries, transportation_issues to submcc_rsk_chol_ind\n",
      "dtypes: float64(424), int64(369)\n",
      "memory usage: 359.7 MB\n"
     ]
    }
   ],
   "source": [
    "df_majority.info()"
   ]
  },
  {
   "cell_type": "code",
   "execution_count": 14,
   "metadata": {
    "id": "5JqurGKH1VQA",
    "outputId": "655e09a6-8399-4f14-d515-b3fd4a6ec38f"
   },
   "outputs": [
    {
     "name": "stdout",
     "output_type": "stream",
     "text": [
      "<class 'pandas.core.frame.DataFrame'>\n",
      "Int64Index: 10197 entries, 2 to 69571\n",
      "Columns: 793 entries, transportation_issues to submcc_rsk_chol_ind\n",
      "dtypes: float64(424), int64(369)\n",
      "memory usage: 61.8 MB\n"
     ]
    }
   ],
   "source": [
    "df_minority.info()"
   ]
  },
  {
   "cell_type": "code",
   "execution_count": 15,
   "metadata": {
    "id": "ruwrBmTX1VQE",
    "outputId": "ad9eaaf0-f831-4d42-d058-1313ffc3519a"
   },
   "outputs": [
    {
     "data": {
      "text/plain": [
       "1    59375\n",
       "0    59375\n",
       "Name: transportation_issues, dtype: int64"
      ]
     },
     "execution_count": 15,
     "metadata": {},
     "output_type": "execute_result"
    }
   ],
   "source": [
    "# upsample majority class\n",
    "from sklearn.utils import resample\n",
    "\n",
    "df_minority_upsampled = resample(df_minority, \n",
    "                                 replace=True,     # sample with replacement\n",
    "                                 n_samples=59375,    # to match majority class\n",
    "                                 random_state=123) # reproducible results\n",
    " \n",
    "# Combine majority class with upsampled minority class\n",
    "df_upsampled = pd.concat([df_majority, df_minority_upsampled])\n",
    " \n",
    "# Display new class counts\n",
    "df_upsampled.transportation_issues.value_counts()"
   ]
  },
  {
   "cell_type": "markdown",
   "metadata": {
    "id": "GrhkaatC1VQJ"
   },
   "source": [
    "## Random Forest Classifier"
   ]
  },
  {
   "cell_type": "code",
   "execution_count": 16,
   "metadata": {
    "id": "vNuSUZFi1VQK",
    "outputId": "3d0eb4ea-22f1-40df-c1bd-177676caa511"
   },
   "outputs": [
    {
     "name": "stdout",
     "output_type": "stream",
     "text": [
      "<class 'pandas.core.frame.DataFrame'>\n",
      "Int64Index: 118750 entries, 0 to 53264\n",
      "Columns: 793 entries, transportation_issues to submcc_rsk_chol_ind\n",
      "dtypes: float64(424), int64(369)\n",
      "memory usage: 719.4 MB\n"
     ]
    }
   ],
   "source": [
    "df_upsampled.info()"
   ]
  },
  {
   "cell_type": "code",
   "execution_count": 17,
   "metadata": {
    "id": "X41R2_TX1VQP"
   },
   "outputs": [],
   "source": [
    "X=df_upsampled.drop('transportation_issues', axis = 1)\n",
    "y=df_upsampled['transportation_issues']\n",
    "X_train, X_test, y_train, y_test = train_test_split(X, y, test_size=0.3)\n",
    "clf=RandomForestClassifier(n_estimators=400, random_state = 42)\n",
    "clf.fit(X_train,y_train)\n",
    "y_pred=clf.predict(X_test)"
   ]
  },
  {
   "cell_type": "code",
   "execution_count": 18,
   "metadata": {
    "id": "ZgXDU8I41VQd",
    "outputId": "9dcaecf8-21fb-4ecf-f6f7-711426321c25"
   },
   "outputs": [
    {
     "name": "stdout",
     "output_type": "stream",
     "text": [
      "Accuracy: 0.9792280701754386\n"
     ]
    }
   ],
   "source": [
    "print(\"Accuracy:\",metrics.accuracy_score(y_test, y_pred))"
   ]
  },
  {
   "cell_type": "code",
   "execution_count": 19,
   "metadata": {
    "id": "FtcuvzJ61VQj",
    "outputId": "ed9ec77a-f54e-437b-ed4d-d0a1fdd7b437"
   },
   "outputs": [
    {
     "data": {
      "text/plain": [
       "0.979222921241645"
      ]
     },
     "execution_count": 19,
     "metadata": {},
     "output_type": "execute_result"
    }
   ],
   "source": [
    "false_positive_rate, true_positive_rate, thresholds = roc_curve(y_test, y_pred)\n",
    "roc_auc = auc(false_positive_rate, true_positive_rate)\n",
    "roc_auc"
   ]
  },
  {
   "cell_type": "code",
   "execution_count": 20,
   "metadata": {
    "id": "EgPL-eP61VQk"
   },
   "outputs": [],
   "source": [
    "CM=confusion_matrix(y_test, y_pred)"
   ]
  },
  {
   "cell_type": "code",
   "execution_count": 21,
   "metadata": {
    "id": "7psNihTZ1VQm",
    "outputId": "c07b9a4a-0245-4c3e-e1a8-b56eec6cf817"
   },
   "outputs": [
    {
     "data": {
      "text/plain": [
       "array([[17362,   414],\n",
       "       [  326, 17523]])"
      ]
     },
     "execution_count": 21,
     "metadata": {},
     "output_type": "execute_result"
    }
   ],
   "source": [
    "CM"
   ]
  },
  {
   "cell_type": "code",
   "execution_count": 22,
   "metadata": {
    "id": "tYrExizB1VQn",
    "outputId": "01f137fc-6662-4508-cb24-10b64410965a"
   },
   "outputs": [
    {
     "data": {
      "image/png": "[encoded data removed]",
      "text/plain": [
       "<Figure size 360x360 with 2 Axes>"
      ]
     },
     "metadata": {
      "needs_background": "light"
     },
     "output_type": "display_data"
    }
   ],
   "source": [
    "import seaborn\n",
    "plt.figure(figsize=(5,5))\n",
    "sns.set(font_scale=1.4)\n",
    "seaborn.heatmap(CM,annot=True,cmap=plt.cm.Greens,annot_kws={'size':10},linewidths=0.2)\n",
    "class_names = [0,1]\n",
    "tick_marks = np.arange(len(class_names))\n",
    "plt.xlabel('Predicted label')\n",
    "plt.ylabel('True label')\n",
    "plt.title('Confusion Matrix for Random Forest Model')\n",
    "plt.show()"
   ]
  },
  {
   "cell_type": "code",
   "execution_count": 23,
   "metadata": {
    "id": "8d9BAlus1VQp"
   },
   "outputs": [],
   "source": [
    "matrix = confusion_matrix(y_test, y_pred)\n",
    "matrix = matrix.astype('float') / matrix.sum(axis=1)[:, np.newaxis]"
   ]
  },
  {
   "cell_type": "code",
   "execution_count": 24,
   "metadata": {
    "id": "Xu1unfP01VQr",
    "outputId": "a6750c71-f410-4e25-e9c5-9f69afbf6f41",
    "scrolled": true
   },
   "outputs": [
    {
     "data": {
      "image/png": "[encoded data removed]",
      "text/plain": [
       "<Figure size 360x360 with 2 Axes>"
      ]
     },
     "metadata": {},
     "output_type": "display_data"
    }
   ],
   "source": [
    "plt.figure(figsize=(5,5))\n",
    "sns.set(font_scale=1.4)\n",
    "sns.heatmap(matrix, annot=True, annot_kws={'size':10},\n",
    "            cmap=plt.cm.Greens, linewidths=0.2)\n",
    "\n",
    "\n",
    "class_names = [0,1]\n",
    "tick_marks = np.arange(len(class_names))\n",
    "\n",
    "plt.xlabel('Predicted label')\n",
    "plt.ylabel('True label')\n",
    "plt.title('Confusion Matrix for Random Forest Model')\n",
    "plt.show()"
   ]
  },
  {
   "cell_type": "code",
   "execution_count": 25,
   "metadata": {
    "id": "8TieoKuc1VQu",
    "outputId": "85b5b072-9740-4b57-ae71-ad14b9a8affd",
    "scrolled": true
   },
   "outputs": [
    {
     "name": "stdout",
     "output_type": "stream",
     "text": [
      "              precision    recall  f1-score   support\n",
      "\n",
      "           0       0.98      0.98      0.98     17776\n",
      "           1       0.98      0.98      0.98     17849\n",
      "\n",
      "    accuracy                           0.98     35625\n",
      "   macro avg       0.98      0.98      0.98     35625\n",
      "weighted avg       0.98      0.98      0.98     35625\n",
      "\n"
     ]
    }
   ],
   "source": [
    "from sklearn.metrics import classification_report\n",
    "\n",
    "print(classification_report(y_test, y_pred))"
   ]
  },
  {
   "cell_type": "markdown",
   "metadata": {},
   "source": [
    "## Logistic Regression "
   ]
  },
  {
   "cell_type": "code",
   "execution_count": 26,
   "metadata": {},
   "outputs": [
    {
     "name": "stderr",
     "output_type": "stream",
     "text": [
      "/Users/guoyuxin/opt/anaconda3/lib/python3.8/site-packages/sklearn/linear_model/_logistic.py:762: ConvergenceWarning: lbfgs failed to converge (status=1):\n",
      "STOP: TOTAL NO. of ITERATIONS REACHED LIMIT.\n",
      "\n",
      "Increase the number of iterations (max_iter) or scale the data as shown in:\n",
      "    https://scikit-learn.org/stable/modules/preprocessing.html\n",
      "Please also refer to the documentation for alternative solver options:\n",
      "    https://scikit-learn.org/stable/modules/linear_model.html#logistic-regression\n",
      "  n_iter_i = _check_optimize_result(\n"
     ]
    },
    {
     "data": {
      "text/plain": [
       "LogisticRegression()"
      ]
     },
     "execution_count": 26,
     "metadata": {},
     "output_type": "execute_result"
    }
   ],
   "source": [
    "logisticRegr = LogisticRegression(random_state = 42)\n",
    "logisticRegr.fit(X_train, y_train)"
   ]
  },
  {
   "cell_type": "code",
   "execution_count": 27,
   "metadata": {},
   "outputs": [
    {
     "name": "stdout",
     "output_type": "stream",
     "text": [
      "[1.8034755  0.8034755  0.80156806 ... 0.22806442 0.20461966 0.20130573]\n"
     ]
    }
   ],
   "source": [
    "preds = logisticRegr.predict_proba(X_test)\n",
    "tpr, tpr, thresholds = metrics.roc_curve(y_test,preds[:,1])\n",
    "print (thresholds)\n",
    "\n",
    "accuracy_ls = []\n",
    "for thres in thresholds:\n",
    "    y_pred = np.where(preds[:,1]>thres,1,0)\n",
    "    # Apply desired utility function to y_preds, for example accuracy.\n",
    "    accuracy_ls.append(metrics.accuracy_score(y_test, y_pred, normalize=True))"
   ]
  },
  {
   "cell_type": "code",
   "execution_count": 28,
   "metadata": {},
   "outputs": [
    {
     "data": {
      "text/plain": [
       "[<matplotlib.lines.Line2D at 0x125325310>]"
      ]
     },
     "execution_count": 28,
     "metadata": {},
     "output_type": "execute_result"
    },
    {
     "data": {
      "image/png": "[encoded data removed]",
      "text/plain": [
       "<Figure size 432x288 with 1 Axes>"
      ]
     },
     "metadata": {},
     "output_type": "display_data"
    }
   ],
   "source": [
    "plt.plot(thresholds,accuracy_ls)"
   ]
  },
  {
   "cell_type": "code",
   "execution_count": 29,
   "metadata": {},
   "outputs": [],
   "source": [
    "cutoff=pd.DataFrame(thresholds,columns=['cut-off'])\n",
    "cutoff['Accuracy Score']=accuracy_ls"
   ]
  },
  {
   "cell_type": "code",
   "execution_count": 52,
   "metadata": {},
   "outputs": [],
   "source": [
    "max_cof=cutoff['cut-off'][cutoff['Accuracy Score']==cutoff['Accuracy Score'].max()].values"
   ]
  },
  {
   "cell_type": "code",
   "execution_count": 53,
   "metadata": {},
   "outputs": [],
   "source": [
    "y_pred = np.where(preds[:,1]>max_cof,1,0)"
   ]
  },
  {
   "cell_type": "code",
   "execution_count": 54,
   "metadata": {},
   "outputs": [
    {
     "data": {
      "text/plain": [
       "0.5707071438977613"
      ]
     },
     "execution_count": 54,
     "metadata": {},
     "output_type": "execute_result"
    }
   ],
   "source": [
    "false_positive_rate, true_positive_rate, thresholds = roc_curve(y_test, y_pred)\n",
    "roc_auc = auc(false_positive_rate, true_positive_rate)\n",
    "roc_auc"
   ]
  },
  {
   "cell_type": "code",
   "execution_count": 55,
   "metadata": {},
   "outputs": [
    {
     "name": "stdout",
     "output_type": "stream",
     "text": [
      "              precision    recall  f1-score   support\n",
      "\n",
      "           0       0.58      0.54      0.55     17776\n",
      "           1       0.57      0.61      0.59     17849\n",
      "\n",
      "    accuracy                           0.57     35625\n",
      "   macro avg       0.57      0.57      0.57     35625\n",
      "weighted avg       0.57      0.57      0.57     35625\n",
      "\n"
     ]
    }
   ],
   "source": [
    "from sklearn.metrics import classification_report\n",
    "\n",
    "print(classification_report(y_test, y_pred))"
   ]
  },
  {
   "cell_type": "markdown",
   "metadata": {},
   "source": [
    "## XGBoost"
   ]
  },
  {
   "cell_type": "code",
   "execution_count": 33,
   "metadata": {},
   "outputs": [],
   "source": [
    "def roc_auc_plot(fpr, tpr, roc_auc):\n",
    "    plt.figure()\n",
    "    plt.plot(fpr, tpr, label='XGBoost (area = %0.2f)' % roc_auc)\n",
    "    plt.plot([0, 1], [0, 1],'r--')\n",
    "    plt.xlim([0.0, 1.0])\n",
    "    plt.ylim([0.0, 1.05])\n",
    "    plt.xlabel('False Positive Rate')\n",
    "    plt.ylabel('True Positive Rate')\n",
    "    plt.title('Receiver operating characteristic')\n",
    "    plt.legend(loc=\"lower right\")\n",
    "    plt.savefig('Log_ROC')\n",
    "    plt.show()"
   ]
  },
  {
   "cell_type": "code",
   "execution_count": 40,
   "metadata": {},
   "outputs": [
    {
     "data": {
      "text/plain": [
       "XGBClassifier(base_score=0.5, booster='gbtree', colsample_bylevel=1,\n",
       "              colsample_bynode=1, colsample_bytree=1, gamma=0, gpu_id=-1,\n",
       "              importance_type='gain', interaction_constraints='',\n",
       "              learning_rate=0.300000012, max_delta_step=0, max_depth=6,\n",
       "              min_child_weight=1, missing=nan, monotone_constraints='()',\n",
       "              n_estimators=100, n_jobs=0, num_parallel_tree=1, random_state=0,\n",
       "              reg_alpha=0, reg_lambda=1, scale_pos_weight=1, subsample=1,\n",
       "              tree_method='exact', validate_parameters=1, verbosity=None)"
      ]
     },
     "execution_count": 40,
     "metadata": {},
     "output_type": "execute_result"
    }
   ],
   "source": [
    "xgb = XGBClassifier(objective = 'binary:logistic')\n",
    "xgb.fit(X_train, y_train)"
   ]
  },
  {
   "cell_type": "code",
   "execution_count": 41,
   "metadata": {},
   "outputs": [
    {
     "data": {
      "image/png": "[encoded data removed]",
      "text/plain": [
       "<Figure size 432x288 with 1 Axes>"
      ]
     },
     "metadata": {
      "needs_background": "light"
     },
     "output_type": "display_data"
    },
    {
     "name": "stdout",
     "output_type": "stream",
     "text": [
      "Accuracy: 82.5740%\n"
     ]
    }
   ],
   "source": [
    "# Predicting with test data\n",
    "y_pred = xgb.predict(X_test)\n",
    "y_prob = xgb.predict_proba(X_test)[:,1]\n",
    "fpr, tpr, thresholds = roc_curve(y_test, y_prob)\n",
    "predictions = [round(value) for value in y_pred]\n",
    "roc_auc = roc_auc_score(y_test, y_prob)\n",
    "roc_auc_plot(fpr, tpr, roc_auc)\n",
    "\n",
    "# evaluate predictions\n",
    "accuracy = accuracy_score(y_test, predictions)\n",
    "print(\"Accuracy: %.4f%%\" % (accuracy * 100.0))"
   ]
  },
  {
   "cell_type": "code",
   "execution_count": 42,
   "metadata": {},
   "outputs": [
    {
     "name": "stdout",
     "output_type": "stream",
     "text": [
      "              precision    recall  f1-score   support\n",
      "\n",
      "           0       0.83      0.82      0.82     17776\n",
      "           1       0.82      0.83      0.83     17849\n",
      "\n",
      "    accuracy                           0.83     35625\n",
      "   macro avg       0.83      0.83      0.83     35625\n",
      "weighted avg       0.83      0.83      0.83     35625\n",
      "\n"
     ]
    }
   ],
   "source": [
    "from sklearn.metrics import classification_report\n",
    "\n",
    "print(classification_report(y_test, y_pred))"
   ]
  },
  {
   "cell_type": "markdown",
   "metadata": {
    "id": "pRFDWRAG1VQ3"
   },
   "source": [
    "## Apply the best model to the holdout"
   ]
  },
  {
   "cell_type": "code",
   "execution_count": 48,
   "metadata": {
    "id": "vTeQgYAx1VRA"
   },
   "outputs": [],
   "source": [
    "holdout_pred=clf.predict(Holdout)"
   ]
  },
  {
   "cell_type": "code",
   "execution_count": null,
   "metadata": {
    "id": "jV7V1qVi1VRP"
   },
   "outputs": [],
   "source": [
    "holdout_pred.to_csv(\"Holdout_pred.csv\")"
   ]
  }
 ],
 "metadata": {
  "colab": {
   "name": "Humana_final.ipynb",
   "provenance": []
  },
  "kernelspec": {
   "display_name": "Python 3",
   "language": "python",
   "name": "python3"
  },
  "language_info": {
   "codemirror_mode": {
    "name": "ipython",
    "version": 3
   },
   "file_extension": ".py",
   "mimetype": "text/x-python",
   "name": "python",
   "nbconvert_exporter": "python",
   "pygments_lexer": "ipython3",
   "version": "3.8.5"
  }
 },
 "nbformat": 4,
 "nbformat_minor": 1
}
